{
 "cells": [
  {
   "cell_type": "markdown",
   "id": "c11a55d3",
   "metadata": {},
   "source": [
    "# Machine learning and statistical learning\n",
    "\n",
    "## Training/ Validation/ Test Approach"
   ]
  },
  {
   "cell_type": "markdown",
   "id": "90efd10b",
   "metadata": {},
   "source": [
    "### 1 Context and objectives\n",
    "\n",
    "In this notebook, I will predict a continuous variable using a machine learning algorithm by varying the values of a hyperparameter of this algorithm. The objective is to observe the evolution of the measurement error on the training sample as well as on the test sample, according to the flexibility of the model.\n",
    "\n",
    "The data used in this exercise give information about the target variable, the selling price of cars (in rupees) and provide details on the characteristics of the car. The dataset was downloaded from Kaggle (https://www.kaggle.com/datasets/nehalbirla/vehicle-dataset-from-cardekho) and cleaned.\n",
    "\n",
    "The columns of the dataset are the following:\n",
    "\n",
    "• `name`: name of the car\n",
    "\n",
    "• `year`: year in which the car was bought\n",
    "\n",
    "• `selling_price`: price the owner wants to sell the car at (in thousand rupees)\n",
    "\n",
    "• `km_driven`: distance completed by the car in km\n",
    "\n",
    "• `fuel`: fuel type of the car\n",
    "\n",
    "• `seller_type`: tells if car is sold by individual or dealer\n",
    "\n",
    "• `transmission`: Gear transmission of the car (Automatic/Manual)\n",
    "\n",
    "• `owner`: number of previous owners\n",
    "\n",
    "• `mileage`: mileage of the car\n",
    "\n",
    "• `engine`: engine capacity of the car\n",
    "\n",
    "• `max_power`: max power of engine\n",
    "\n",
    "• `torque`: torque of the car\n",
    "\n",
    "• `seats`: number of seats in the car\n",
    "\n",
    "• `sample`: whether the observation belongs to the training or testing set"
   ]
  },
  {
   "cell_type": "markdown",
   "id": "01d03ae6",
   "metadata": {},
   "source": [
    "### 2. First steps: preparing the data"
   ]
  },
  {
   "cell_type": "markdown",
   "id": "5f11a67b",
   "metadata": {},
   "source": [
    "**1. From AMeTICE, download the cars dataset (cars.csv)**\n",
    "\n",
    "**2. Load the CSV file into R or Python**"
   ]
  },
  {
   "cell_type": "code",
   "execution_count": 1,
   "id": "05a062d0",
   "metadata": {},
   "outputs": [
    {
     "name": "stdout",
     "output_type": "stream",
     "text": [
      "C:\\Users\\AMSE\\Documents\\Thu_Ha\\ML_SL\\cars_project\n"
     ]
    },
    {
     "data": {
      "text/html": [
       "<div>\n",
       "<style scoped>\n",
       "    .dataframe tbody tr th:only-of-type {\n",
       "        vertical-align: middle;\n",
       "    }\n",
       "\n",
       "    .dataframe tbody tr th {\n",
       "        vertical-align: top;\n",
       "    }\n",
       "\n",
       "    .dataframe thead th {\n",
       "        text-align: right;\n",
       "    }\n",
       "</style>\n",
       "<table border=\"1\" class=\"dataframe\">\n",
       "  <thead>\n",
       "    <tr style=\"text-align: right;\">\n",
       "      <th></th>\n",
       "      <th>name</th>\n",
       "      <th>year</th>\n",
       "      <th>selling_price</th>\n",
       "      <th>km_driven</th>\n",
       "      <th>fuel</th>\n",
       "      <th>seller_type</th>\n",
       "      <th>transmission</th>\n",
       "      <th>owner</th>\n",
       "      <th>mileage</th>\n",
       "      <th>engine</th>\n",
       "      <th>max_power</th>\n",
       "      <th>seats</th>\n",
       "    </tr>\n",
       "  </thead>\n",
       "  <tbody>\n",
       "    <tr>\n",
       "      <th>0</th>\n",
       "      <td>Maruti Swift Dzire VDI</td>\n",
       "      <td>2014</td>\n",
       "      <td>450000</td>\n",
       "      <td>145500</td>\n",
       "      <td>Diesel</td>\n",
       "      <td>Individual</td>\n",
       "      <td>Manual</td>\n",
       "      <td>First Owner</td>\n",
       "      <td>23.40</td>\n",
       "      <td>1248.0</td>\n",
       "      <td>74.00</td>\n",
       "      <td>5.0</td>\n",
       "    </tr>\n",
       "    <tr>\n",
       "      <th>1</th>\n",
       "      <td>Skoda Rapid 1.5 TDI Ambition</td>\n",
       "      <td>2014</td>\n",
       "      <td>370000</td>\n",
       "      <td>120000</td>\n",
       "      <td>Diesel</td>\n",
       "      <td>Individual</td>\n",
       "      <td>Manual</td>\n",
       "      <td>Second Owner</td>\n",
       "      <td>21.14</td>\n",
       "      <td>1498.0</td>\n",
       "      <td>103.52</td>\n",
       "      <td>5.0</td>\n",
       "    </tr>\n",
       "    <tr>\n",
       "      <th>2</th>\n",
       "      <td>Honda City 2017-2020 EXi</td>\n",
       "      <td>2006</td>\n",
       "      <td>158000</td>\n",
       "      <td>140000</td>\n",
       "      <td>Petrol</td>\n",
       "      <td>Individual</td>\n",
       "      <td>Manual</td>\n",
       "      <td>Third Owner</td>\n",
       "      <td>17.70</td>\n",
       "      <td>1497.0</td>\n",
       "      <td>78.00</td>\n",
       "      <td>5.0</td>\n",
       "    </tr>\n",
       "    <tr>\n",
       "      <th>3</th>\n",
       "      <td>Hyundai i20 Sportz Diesel</td>\n",
       "      <td>2010</td>\n",
       "      <td>225000</td>\n",
       "      <td>127000</td>\n",
       "      <td>Diesel</td>\n",
       "      <td>Individual</td>\n",
       "      <td>Manual</td>\n",
       "      <td>First Owner</td>\n",
       "      <td>23.00</td>\n",
       "      <td>1396.0</td>\n",
       "      <td>90.00</td>\n",
       "      <td>5.0</td>\n",
       "    </tr>\n",
       "    <tr>\n",
       "      <th>4</th>\n",
       "      <td>Maruti Swift VXI BSIII</td>\n",
       "      <td>2007</td>\n",
       "      <td>130000</td>\n",
       "      <td>120000</td>\n",
       "      <td>Petrol</td>\n",
       "      <td>Individual</td>\n",
       "      <td>Manual</td>\n",
       "      <td>First Owner</td>\n",
       "      <td>16.10</td>\n",
       "      <td>1298.0</td>\n",
       "      <td>88.20</td>\n",
       "      <td>5.0</td>\n",
       "    </tr>\n",
       "  </tbody>\n",
       "</table>\n",
       "</div>"
      ],
      "text/plain": [
       "                           name  year  selling_price  km_driven    fuel  \\\n",
       "0        Maruti Swift Dzire VDI  2014         450000     145500  Diesel   \n",
       "1  Skoda Rapid 1.5 TDI Ambition  2014         370000     120000  Diesel   \n",
       "2      Honda City 2017-2020 EXi  2006         158000     140000  Petrol   \n",
       "3     Hyundai i20 Sportz Diesel  2010         225000     127000  Diesel   \n",
       "4        Maruti Swift VXI BSIII  2007         130000     120000  Petrol   \n",
       "\n",
       "  seller_type transmission         owner  mileage  engine  max_power  seats  \n",
       "0  Individual       Manual   First Owner    23.40  1248.0      74.00    5.0  \n",
       "1  Individual       Manual  Second Owner    21.14  1498.0     103.52    5.0  \n",
       "2  Individual       Manual   Third Owner    17.70  1497.0      78.00    5.0  \n",
       "3  Individual       Manual   First Owner    23.00  1396.0      90.00    5.0  \n",
       "4  Individual       Manual   First Owner    16.10  1298.0      88.20    5.0  "
      ]
     },
     "execution_count": 1,
     "metadata": {},
     "output_type": "execute_result"
    }
   ],
   "source": [
    "# Load data\n",
    "\n",
    "import pandas as pd\n",
    "import numpy as np\n",
    "import os\n",
    "\n",
    "cwd = os.getcwd()\n",
    "print(cwd)\n",
    "\n",
    "path_data = \".\\data\\cars.csv\"\n",
    "cars_data = pd.read_csv(path_data, header = 0)\n",
    "cars_data.head()"
   ]
  },
  {
   "cell_type": "markdown",
   "id": "401e6547",
   "metadata": {},
   "source": [
    "**3. Randomly split your dataset into two parts:**\n",
    "\n",
    "a) a train set that will contain 80% of the observations\n",
    "\n",
    "b) a test set that will contain the remaining 20%.\n",
    "\n",
    "**4. From the train set, create two datasets:**\n",
    "\n",
    "a) a training set that will contain 80% of the observations from the train set\n",
    "\n",
    "b) a validation set that waill contain the remining 20%."
   ]
  },
  {
   "cell_type": "code",
   "execution_count": 2,
   "id": "00f875cb",
   "metadata": {},
   "outputs": [
    {
     "name": "stdout",
     "output_type": "stream",
     "text": [
      "Train shape: (6502, 12)\n",
      "Test shape: (1626, 12)\n",
      "Training shape: (5201, 12)\n",
      "Validation shape: (1301, 12)\n"
     ]
    }
   ],
   "source": [
    "from sklearn.model_selection import train_test_split\n",
    "\n",
    "train, test = train_test_split(cars_data, test_size = 0.20, random_state = 0)\n",
    "print(\"Train shape:\", train.shape)\n",
    "print(\"Test shape:\", test.shape)\n",
    "\n",
    "training, validation = train_test_split(train, test_size = 0.20, random_state = 0)\n",
    "print(\"Training shape:\", training.shape)\n",
    "print(\"Validation shape:\", validation.shape)"
   ]
  },
  {
   "cell_type": "markdown",
   "id": "17e33d28",
   "metadata": {},
   "source": [
    "### 3. Getting to know the data: descriptive statistics"
   ]
  },
  {
   "cell_type": "markdown",
   "id": "0301edea",
   "metadata": {},
   "source": [
    "**1. Compute some summary statistics for the whole dataset (and comment the outputs):**\n",
    "\n",
    "a) for numerical variables: mean, minimum, maximum, quartiles\n",
    "\n",
    "b) for categorical variables: for each category: proportion of observations; mean, minimum, maximum, quartiles of the target variable (selling_price)"
   ]
  },
  {
   "cell_type": "code",
   "execution_count": null,
   "id": "7f5794dd",
   "metadata": {},
   "outputs": [],
   "source": [
    "# For numerical independent variables\n",
    "\n",
    "# year: year in which the car was bought\n",
    "\n",
    "cars_data[\"year\"].mean()\n",
    "print(\"The average year in which the cars were bought is %d.\" % (int(cars_data[\"year\"].mean())))\n",
    "cars_data[\"year\"].max()\n",
    "print(\"The newest cars were bought in %d.\" % (cars_data[\"year\"].max()))\n",
    "cars_data[\"year\"].min()\n",
    "print(\"The oldest cars were bought in %d.\" % (cars_data[\"year\"].min()))\n",
    "st_quartile_year = int(np.percentile(cars_data[\"year\"], 25))\n",
    "median_year = int(np.percentile(cars_data[\"year\"], 50))\n",
    "rd_quartile_year = int(np.percentile(cars_data[\"year\"], 75))\n",
    "print(f\"The 1st, median and 3rd quartiles of the year in which the cars were bought are {st_quartile_year}, {median_year}, {rd_quartile_year}, respectively.\")\n",
    "\n",
    "# km_driven: distance completed by the car in km\n",
    "\n",
    "cars_data[\"km_driven\"].mean()\n",
    "print(\"The average distance the cars have driven is %d.\" % (int(cars_data[\"km_driven\"].mean())))\n",
    "cars_data[\"km_driven\"].max()\n",
    "print(\"The highest distance a car has driven is %d.\" % (cars_data[\"km_driven\"].max()))\n",
    "cars_data[\"km_driven\"].min()\n",
    "print(\"The lowest distance a car has driven is %d.\" % (cars_data[\"km_driven\"].min()))\n",
    "st_quartile_km_driven = int(np.percentile(cars_data[\"km_driven\"], 25))\n",
    "median_km_driven = int(np.percentile(cars_data[\"km_driven\"], 50))\n",
    "rd_quartile_km_driven = int(np.percentile(cars_data[\"km_driven\"], 75))\n",
    "print(f\"The 1st, median and 3rd quartiles of the distances that the cars have driven are {st_quartile_km_driven}, {median_km_driven}, {rd_quartile_km_driven}, respectively.\")\n",
    "\n",
    "# mileage: mileage of the car\n",
    "\n",
    "cars_data[\"mileage\"].mean()\n",
    "print(\"The average number of mileage that the cars have is %d.\" % (int(cars_data[\"mileage\"].mean())))\n",
    "cars_data[\"mileage\"].max()\n",
    "print(\"The highest number of mileage a car has is %d.\" % (cars_data[\"mileage\"].max()))\n",
    "cars_data[\"mileage\"].min()\n",
    "print(\"The lowest number of mileage a car has is %d.\" % (cars_data[\"mileage\"].min()))\n",
    "st_quartile_mileage = int(np.percentile(cars_data[\"mileage\"], 25))\n",
    "median_mileage = int(np.percentile(cars_data[\"mileage\"], 50))\n",
    "rd_quartile_mileage = int(np.percentile(cars_data[\"mileage\"], 75))\n",
    "print(f\"The 1st, median and 3rd quartiles of the number of mileage that the cars have are {st_quartile_mileage}, {median_mileage}, {rd_quartile_mileage}, respectively.\")\n",
    "\n",
    "# engine: engine capacity of the car\n",
    "\n",
    "cars_data[\"engine\"].mean()\n",
    "print(\"The average engine capacity the cars have is %d.\" % (int(cars_data[\"engine\"].mean())))\n",
    "cars_data[\"engine\"].max()\n",
    "print(\"The highest engine capacity a car has is %d.\" % (cars_data[\"engine\"].max()))\n",
    "cars_data[\"engine\"].min()\n",
    "print(\"The lowest engine capacity a car has is %d.\" % (cars_data[\"engine\"].min()))\n",
    "st_quartile_engine = int(np.nanpercentile(cars_data[\"engine\"], 25))\n",
    "median_engine = int(np.nanpercentile(cars_data[\"engine\"], 50))\n",
    "rd_quartile_engine = int(np.nanpercentile(cars_data[\"engine\"], 75))\n",
    "print(f\"The 1st, median and 3rd quartiles of the engine capacity that the cars have are {st_quartile_engine}, {median_engine}, {rd_quartile_engine}, respectively.\")\n",
    "\n",
    "# max_power: max power of engine\n",
    "\n",
    "cars_data[\"max_power\"].mean()\n",
    "print(\"The average max power of engine the cars have is %d.\" % (int(cars_data[\"max_power\"].mean())))\n",
    "cars_data[\"max_power\"].max()\n",
    "print(\"The highest max power of engine a car has is %d.\" % (cars_data[\"max_power\"].max()))\n",
    "cars_data[\"max_power\"].min()\n",
    "print(\"The lowest max power of engine a car has is %d.\" % (cars_data[\"max_power\"].min()))\n",
    "st_quartile_max_power = int(np.nanpercentile(cars_data[\"max_power\"], 25))\n",
    "median_max_power = int(np.nanpercentile(cars_data[\"max_power\"], 50))\n",
    "rd_quartile_max_power = int(np.nanpercentile(cars_data[\"max_power\"], 75))\n",
    "print(f\"The 1st, median and 3rd quartiles of the max power of engine that the cars have are {st_quartile_max_power}, {median_max_power}, {rd_quartile_max_power}, respectively.\")\n",
    "\n",
    "# seats: number of seats in the car\n",
    "\n",
    "cars_data[\"seats\"].mean()\n",
    "print(\"The average number of seats in the car is %d.\" % (int(cars_data[\"seats\"].mean())))\n",
    "cars_data[\"seats\"].max()\n",
    "print(\"The highest number of seats in the car is %d.\" % (cars_data[\"seats\"].max()))\n",
    "cars_data[\"seats\"].min()\n",
    "print(\"The lowest number of seats in the car is %d.\" % (cars_data[\"seats\"].min()))\n",
    "st_quartile_seats = int(np.nanpercentile(cars_data[\"seats\"], 25))\n",
    "median_seats = int(np.nanpercentile(cars_data[\"seats\"], 50))\n",
    "rd_quartile_seats = int(np.nanpercentile(cars_data[\"seats\"], 75))\n",
    "print(f\"The 1st, median and 3rd quartiles of the number of seats in the car are {st_quartile_seats}, {median_seats}, {rd_quartile_seats}, respectively.\")"
   ]
  },
  {
   "cell_type": "code",
   "execution_count": null,
   "id": "5a4190b0",
   "metadata": {},
   "outputs": [],
   "source": [
    "# For categorical variables \n",
    "\n",
    "# fuel: fuel type of the car\n",
    "\n",
    "df_fuel = pd.DataFrame(cars_data[\"fuel\"].value_counts(normalize=True))\n",
    "print(\"The proprotion of diesel is %d, the proportion of petrol is %d, the proportion of CNG is %d, and the proportion of LPG is %d.\" % ((df_fuel.at[\"Diesel\", \"fuel\"]*100), (df_fuel.at[\"Petrol\", \"fuel\"]*100), (df_fuel.at[\"CNG\", \"fuel\"]*100), (df_fuel.at[\"LPG\", \"fuel\"]*100)))\n",
    "\n",
    "# seller_type: tells if car is sold by individual or dealer\n",
    "\n",
    "df_seller_type = pd.DataFrame(cars_data[\"seller_type\"].value_counts(normalize=True))\n",
    "print(\"The proprotion of cars sold by an individual is %d, the proportion of cars sold by a dealer is %d, the proportion of cars sold by a trustmark dealer is %d.\" % ((df_seller_type.at[\"Individual\", \"seller_type\"]*100), (df_seller_type.at[\"Dealer\", \"seller_type\"]*100), (df_seller_type.at[\"Trustmark Dealer\", \"seller_type\"]*100)))\n",
    "\n",
    "# transmission: gear transmission of the car (Automatic/Manual)\n",
    "\n",
    "df_transmission = pd.DataFrame(cars_data[\"transmission\"].value_counts(normalize=True))\n",
    "print(\"The proprotion of cars having automatic gear transmission is %d, the proportion of cars having manual gear transmission is %d.\" % ((df_transmission.at[\"Automatic\", \"transmission\"]*100), (df_transmission.at[\"Manual\", \"transmission\"]*100)))\n",
    "\n",
    "# owner: number of previous owners\n",
    "\n",
    "df_owner = pd.DataFrame(cars_data[\"owner\"].value_counts(normalize=True))\n",
    "print(\"The proprotion of cars having one owner is %d, the proportion of cars having two owners is %d, the proportion of cars having three owners is %d, the proportion of cars having three or more owners is %d, the proportion of test drive car is %d.\" % ((df_owner.at[\"First Owner\", \"owner\"]*100), (df_owner.at[\"Second Owner\", \"owner\"]*100), (df_owner.at[\"Third Owner\", \"owner\"]*100), (df_owner.at[\"Fourth & Above Owner\", \"owner\"]*100), (df_owner.at[\"Test Drive Car\", \"owner\"]*100)))"
   ]
  },
  {
   "cell_type": "code",
   "execution_count": null,
   "id": "ca24b77c",
   "metadata": {},
   "outputs": [],
   "source": [
    "# For our target variable\n",
    "\n",
    "# selling_price: price the owner wants to sell the car at (in thousand rupees)\n",
    "\n",
    "cars_data[\"selling_price\"].mean()\n",
    "print(\"The average selling price is %d thousand rupees.\" % (int(cars_data[\"selling_price\"].mean())))\n",
    "cars_data[\"selling_price\"].max()\n",
    "print(\"The highest selling price is %d thousand rupees.\" % (cars_data[\"selling_price\"].max()))\n",
    "cars_data[\"selling_price\"].min()\n",
    "print(\"The lowest selling price is %d thousand rupees.\" % (cars_data[\"selling_price\"].min()))\n",
    "st_selling_price = int(np.percentile(cars_data[\"selling_price\"], 25))\n",
    "median_selling_price = int(np.percentile(cars_data[\"selling_price\"], 50))\n",
    "rd_selling_price = int(np.percentile(cars_data[\"selling_price\"], 27))\n",
    "print(f\"The 1st, median and 3rd quartiles of the selling price are {st_selling_price}, {median_selling_price}, {rd_selling_price} thousand rupees, respectively.\")"
   ]
  },
  {
   "cell_type": "markdown",
   "id": "ce6b0d3b",
   "metadata": {},
   "source": [
    "**2. Create graphs to show the relationship between the target variable and the explanatory variables. Comment on these.**"
   ]
  },
  {
   "cell_type": "code",
   "execution_count": null,
   "id": "3180f47c",
   "metadata": {},
   "outputs": [],
   "source": [
    "# The relationship between \"selling_price\" and \"year\"\n",
    "\n",
    "import matplotlib.pyplot as plt\n",
    "\n",
    "plt.scatter(cars_data[\"year\"], cars_data[\"selling_price\"], c = \"green\")\n",
    "plt.xlabel(\"year\")\n",
    "plt.ylabel(\"selling_price\")\n",
    "plt.show()"
   ]
  },
  {
   "cell_type": "markdown",
   "id": "733dc895",
   "metadata": {},
   "source": [
    "*Comment: As can be seen from the graph, there is a positive relationship between the selling price and the year in which the cars were bought; or in other words, the newer the cars in terms of the year in which they were bought, the higher their secondhand prices.*"
   ]
  },
  {
   "cell_type": "code",
   "execution_count": null,
   "id": "43a66375",
   "metadata": {},
   "outputs": [],
   "source": [
    "# The relationship between \"selling_price\" and \"km_driven\"\n",
    "\n",
    "import matplotlib.pyplot as plt\n",
    "\n",
    "plt.scatter(cars_data[\"km_driven\"], cars_data[\"selling_price\"], c = \"pink\")\n",
    "plt.xlabel(\"km_driven\")\n",
    "plt.ylabel(\"selling_price\")\n",
    "plt.show()"
   ]
  },
  {
   "cell_type": "markdown",
   "id": "b646d9c2",
   "metadata": {},
   "source": [
    "*Comment: The graph shows a negative relationship between the selling price and the km driven of the cars. Specifically, the lower the km driven (which can be considered as an indicator of how new the car is), the higher the secondhand price.*"
   ]
  },
  {
   "cell_type": "code",
   "execution_count": null,
   "id": "c4f1e9a8",
   "metadata": {},
   "outputs": [],
   "source": [
    "# The relationship between \"selling_price\" and \"fuel\"\n",
    "\n",
    "import matplotlib.pyplot as plt\n",
    "\n",
    "plt.scatter(cars_data[\"fuel\"], cars_data[\"selling_price\"], c = \"orange\")\n",
    "plt.xlabel(\"fuel\")\n",
    "plt.ylabel('selling_price')\n",
    "plt.show()"
   ]
  },
  {
   "cell_type": "markdown",
   "id": "9a323e85",
   "metadata": {},
   "source": [
    "*Comment: It can be seen that among the four types of fuel, the cars run by diesel or pertrol tend to be bought with higher seconhand price than that of LPG or CNG.*"
   ]
  },
  {
   "cell_type": "code",
   "execution_count": null,
   "id": "15697b7b",
   "metadata": {},
   "outputs": [],
   "source": [
    "# The relationship between \"selling_price\" and \"seller_type\"\n",
    "\n",
    "import matplotlib.pyplot as plt\n",
    "\n",
    "plt.scatter(cars_data[\"seller_type\"], cars_data[\"selling_price\"], c = \"blue\")\n",
    "plt.xlabel(\"seller_type\")\n",
    "plt.ylabel(\"selling_price\")\n",
    "plt.show()"
   ]
  },
  {
   "cell_type": "markdown",
   "id": "4a44625d",
   "metadata": {},
   "source": [
    "*Comment: It is hard to tell if there is any clear relationship between the selling price and the seller type from this graph.*"
   ]
  },
  {
   "cell_type": "code",
   "execution_count": null,
   "id": "078a08b8",
   "metadata": {},
   "outputs": [],
   "source": [
    "# The relationship between \"selling_price\" and \"transmission\"\n",
    "\n",
    "import matplotlib.pyplot as plt\n",
    "\n",
    "plt.scatter(cars_data[\"transmission\"], cars_data[\"selling_price\"], c = \"brown\")\n",
    "plt.xlabel(\"transmission\")\n",
    "plt.ylabel(\"selling_price\")\n",
    "plt.show()"
   ]
  },
  {
   "cell_type": "markdown",
   "id": "e0780c65",
   "metadata": {},
   "source": [
    "*Comment: From this graph, it can be said that the automatic cars tend to be bought at higher price than the manual cars.*"
   ]
  },
  {
   "cell_type": "code",
   "execution_count": null,
   "id": "ba05ccca",
   "metadata": {},
   "outputs": [],
   "source": [
    "# The relationship between \"selling_price\" and \"owner\"\n",
    "\n",
    "import matplotlib.pyplot as plt\n",
    "\n",
    "plt.scatter(cars_data[\"owner\"], cars_data[\"selling_price\"], c = \"purple\")\n",
    "plt.xlabel(\"owner\")\n",
    "plt.ylabel(\"selling_price\")\n",
    "plt.show()"
   ]
  },
  {
   "cell_type": "markdown",
   "id": "1f894936",
   "metadata": {},
   "source": [
    "*Comment: There is a pretty clear trend from this graph, the cars owned by fewer owners (again, number of owner can be seen as another indicator of how new the car is) tend to have higher secondhand prices.*"
   ]
  },
  {
   "cell_type": "code",
   "execution_count": null,
   "id": "8332d0bf",
   "metadata": {},
   "outputs": [],
   "source": [
    "# The relationship between \"selling_price\" and \"mileage\"\n",
    "\n",
    "import matplotlib.pyplot as plt\n",
    "\n",
    "plt.scatter(cars_data[\"mileage\"], cars_data[\"selling_price\"], c = \"yellow\")\n",
    "plt.xlabel(\"mileage\")\n",
    "plt.ylabel(\"selling_price\")\n",
    "plt.show()"
   ]
  },
  {
   "cell_type": "markdown",
   "id": "cc7edd81",
   "metadata": {},
   "source": [
    "*Comment: It is hard to tell if there is any clear relationship between the selling price and the mileage from this graph.*"
   ]
  },
  {
   "cell_type": "code",
   "execution_count": null,
   "id": "f65e75ab",
   "metadata": {},
   "outputs": [],
   "source": [
    "# The relationship between \"selling_price\" and \"engine\"\n",
    "\n",
    "import matplotlib.pyplot as plt\n",
    "\n",
    "plt.scatter(cars_data[\"engine\"], cars_data[\"selling_price\"], c = \"black\")\n",
    "plt.xlabel(\"engine\")\n",
    "plt.ylabel(\"selling_price\")\n",
    "plt.show()"
   ]
  },
  {
   "cell_type": "markdown",
   "id": "e8a1001c",
   "metadata": {},
   "source": [
    "*Comment: It is hard to tell if there is any clear relationship between the selling price and the engine from this graph.*"
   ]
  },
  {
   "cell_type": "code",
   "execution_count": null,
   "id": "bb70c5d8",
   "metadata": {},
   "outputs": [],
   "source": [
    "# The relationship between \"selling_price\" and \"max_power\"\n",
    "\n",
    "import matplotlib.pyplot as plt\n",
    "\n",
    "plt.scatter(cars_data[\"max_power\"], cars_data[\"selling_price\"], c = \"grey\")\n",
    "plt.xlabel(\"max_power\")\n",
    "plt.ylabel(\"selling_price\")\n",
    "plt.show()"
   ]
  },
  {
   "cell_type": "markdown",
   "id": "6fffedbd",
   "metadata": {},
   "source": [
    "*Comment: It is hard to tell if there is any clear relationship between the selling price and the maximum power of the cars from this graph.*"
   ]
  },
  {
   "cell_type": "code",
   "execution_count": null,
   "id": "f22214be",
   "metadata": {},
   "outputs": [],
   "source": [
    "# The relationship between \"selling_price\" and \"seats\"\n",
    "\n",
    "import matplotlib.pyplot as plt\n",
    "\n",
    "plt.scatter(cars_data[\"seats\"], cars_data[\"selling_price\"], c = \"red\")\n",
    "plt.xlabel(\"seats\")\n",
    "plt.ylabel(\"selling_price\")\n",
    "plt.show()"
   ]
  },
  {
   "cell_type": "markdown",
   "id": "9f8b4ef3",
   "metadata": {},
   "source": [
    "*Comment: It is hard to tell if there is any clear relationship between the selling price and the number of seats of the cars from this graph.*"
   ]
  },
  {
   "cell_type": "markdown",
   "id": "92045c5d",
   "metadata": {},
   "source": [
    "### 4. Estimations\n",
    "\n",
    "**You will train two different models: a random forest and a SVM.**"
   ]
  },
  {
   "cell_type": "markdown",
   "id": "c6dd3520",
   "metadata": {},
   "source": [
    "**4.1 A first model: Random forest**\n",
    "\n",
    "You will first try to predict the selling price of the cars using a random forest. You will make 3 hyperparameters vary."
   ]
  },
  {
   "cell_type": "markdown",
   "id": "b10e992e",
   "metadata": {},
   "source": [
    "**1. Using a random forest algorithm, predict the selling price of the car in the training set uing the following variables: year, fuel, km_driven.**"
   ]
  },
  {
   "cell_type": "code",
   "execution_count": 3,
   "id": "864b7799",
   "metadata": {},
   "outputs": [],
   "source": [
    "# Convert categorial independent variable with label encoder\n",
    "\n",
    "from sklearn.preprocessing import LabelEncoder\n",
    "\n",
    "# Create arrary of categorial variable to be encoded\n",
    "\n",
    "categorical_col = [\"fuel\"]\n",
    "le = LabelEncoder()\n",
    "\n",
    "# Apply label encoder on categorical feature column\n",
    "\n",
    "training[categorical_col] = training[categorical_col].apply(lambda col: le.fit_transform(col))\n",
    "test[categorical_col] = test[categorical_col].apply(lambda col: le.fit_transform(col))\n",
    "validation[categorical_col] = validation[categorical_col].apply(lambda col: le.fit_transform(col))"
   ]
  },
  {
   "cell_type": "code",
   "execution_count": 4,
   "id": "0a052043",
   "metadata": {},
   "outputs": [
    {
     "data": {
      "text/plain": [
       "RandomForestRegressor(max_features=3, min_samples_leaf=10, n_estimators=20,\n",
       "                      random_state=0)"
      ]
     },
     "execution_count": 4,
     "metadata": {},
     "output_type": "execute_result"
    }
   ],
   "source": [
    "# Estimation\n",
    "\n",
    "# First model: Random forest\n",
    "\n",
    "from sklearn.ensemble import RandomForestRegressor\n",
    "from sklearn.datasets import make_regression\n",
    "\n",
    "y_training = training.selling_price\n",
    "X_training = training[[\"year\", \"fuel\", \"km_driven\"]]\n",
    "\n",
    "y_validation = validation.selling_price\n",
    "X_validation = validation[[\"year\", \"fuel\", \"km_driven\"]]\n",
    "\n",
    "y_test = test.selling_price\n",
    "X_test = test[[\"year\", \"fuel\", \"km_driven\"]]\n",
    "\n",
    "# Train model on the training dataset\n",
    "\n",
    "# X, y = make_regression(n_features = 3)\n",
    "\n",
    "regr_train = RandomForestRegressor(n_estimators = 20, max_features = 3, min_samples_leaf = 10, random_state = 0)\n",
    "regr_train.fit(X_training, y_training)"
   ]
  },
  {
   "cell_type": "markdown",
   "id": "d75df887",
   "metadata": {},
   "source": [
    "**2. Compute the mean squared error both for the training and the validation datasets. Compare them with each other.**"
   ]
  },
  {
   "cell_type": "code",
   "execution_count": 5,
   "id": "04995f8c",
   "metadata": {},
   "outputs": [
    {
     "name": "stdout",
     "output_type": "stream",
     "text": [
      "MSE for the train set is 207751147160.7179\n",
      "MSE for the validation set is 252762070921.7599\n"
     ]
    }
   ],
   "source": [
    "# Assess the goodness of fit by computing MSE on the training and validation dataset\n",
    "\n",
    "y_pred_train = regr_train.predict(X_training)\n",
    "y_pred_validation = regr_train.predict(X_validation)\n",
    "\n",
    "from sklearn.metrics import mean_squared_error\n",
    "mse_trained = mean_squared_error(y_training, y_pred_train)\n",
    "print(\"MSE for the train set is\", mse_trained)\n",
    "mse_validated = mean_squared_error(y_validation, y_pred_validation)\n",
    "print(\"MSE for the validation set is\", mse_validated)"
   ]
  },
  {
   "cell_type": "markdown",
   "id": "dbcca120",
   "metadata": {},
   "source": [
    "*Comment: The MSE for the validation test is slightly higher than that for the train set.*"
   ]
  },
  {
   "cell_type": "markdown",
   "id": "69ddec0c",
   "metadata": {},
   "source": [
    "**3. Now, using a loop, make the minimum size of terminal nodes vary as follows: 10, 20, 30, . . . , 100. At each iteration, compute the mean squared error (and store it) for both samples.**"
   ]
  },
  {
   "cell_type": "code",
   "execution_count": 6,
   "id": "ad9153c7",
   "metadata": {},
   "outputs": [
    {
     "name": "stdout",
     "output_type": "stream",
     "text": [
      "node 10  - MSE_train: 207751147160.7179  - MSE_validation: 252762070921.7599\n",
      "node 20  - MSE_train: 227911009970.1841  - MSE_validation: 258695669783.84253\n",
      "node 30  - MSE_train: 253904414516.11432  - MSE_validation: 276695808672.6283\n",
      "node 40  - MSE_train: 294690236541.9102  - MSE_validation: 313114805678.8977\n",
      "node 50  - MSE_train: 321156558712.8613  - MSE_validation: 333788084606.0197\n",
      "node 60  - MSE_train: 349518782105.71564  - MSE_validation: 371158863748.0613\n",
      "node 70  - MSE_train: 361490346131.10284  - MSE_validation: 380217939172.8407\n",
      "node 80  - MSE_train: 378065228522.1013  - MSE_validation: 397136505256.0076\n",
      "node 90  - MSE_train: 381204341352.81006  - MSE_validation: 398831928822.9421\n",
      "node 100  - MSE_train: 382044702876.8574  - MSE_validation: 400823719863.7507\n"
     ]
    }
   ],
   "source": [
    "mse_train_node = []\n",
    "mse_validation_node = []\n",
    "\n",
    "for i in range(10, 110, 10):\n",
    "    reg = RandomForestRegressor(n_estimators = 20, max_features = 3, min_samples_leaf = i, random_state = 0)\n",
    "    reg.fit(X_training, y_training)\n",
    "    # Predict for the training set\n",
    "    y_train_pred = reg.predict(X_training)\n",
    "    # Calculate the MSE on the training set\n",
    "    mse_train = mean_squared_error(y_training, y_train_pred)\n",
    "    mse_train_node.append(mse_train)\n",
    "   \n",
    "    # Predict for the validation set\n",
    "    y_validation_pred = reg.predict(X_validation)\n",
    "    # Calculate the MSE on the validation set\n",
    "    mse_validation = mean_squared_error(y_validation, y_validation_pred)\n",
    "    mse_validation_node.append(mse_validation)\n",
    "    \n",
    "    print(\"node\", i, \" - MSE_train:\", mse_train,  \" - MSE_validation:\", mse_validation)"
   ]
  },
  {
   "cell_type": "markdown",
   "id": "2b9ac837",
   "metadata": {},
   "source": [
    "**4. On a graph, plot the mean squared error as a function of the node size, for both samples (one curve for each sample). Comment.**"
   ]
  },
  {
   "cell_type": "code",
   "execution_count": null,
   "id": "9a051f18",
   "metadata": {},
   "outputs": [],
   "source": [
    "# Plot the mean squared error as a function of the node size for the train and validation set\n",
    "\n",
    "import matplotlib.pyplot as plt\n",
    "\n",
    "nodes = range(10, 110, 10)\n",
    "plt.figure()\n",
    "plt.plot(nodes, mse_train_node, label = \"MSE for the train set\")\n",
    "plt.plot(nodes, mse_validation_node, label = \"MSE for the validation set\")\n",
    "plt.xlabel(\"Nodes\")\n",
    "plt.ylabel(\"MSE\")\n",
    "plt.title(\"MSE for different node sizes\")\n",
    "plt.legend()\n",
    "plt.show()"
   ]
  },
  {
   "cell_type": "markdown",
   "id": "2f7a24a2",
   "metadata": {},
   "source": [
    "*Comment: As the nodes increase, it can be seen that the MSEs for both the train and validation set also increase.*"
   ]
  },
  {
   "cell_type": "markdown",
   "id": "67c403dd",
   "metadata": {},
   "source": [
    "**5. What are the values for your hyperparameters (the number of trees, the number of variables randomly sampled as candidates at each split, and the minimum size of terminal nodes) that provide the best fit with regard to the MSE?**"
   ]
  },
  {
   "cell_type": "code",
   "execution_count": 7,
   "id": "e43890e6",
   "metadata": {},
   "outputs": [
    {
     "name": "stderr",
     "output_type": "stream",
     "text": [
      "C:\\Users\\AMSE\\anaconda3\\lib\\site-packages\\sklearn\\model_selection\\_validation.py:372: FitFailedWarning: \n",
      "18 fits failed out of a total of 54.\n",
      "The score on these train-test partitions for these parameters will be set to nan.\n",
      "If these failures are not expected, you can try to debug them by setting error_score='raise'.\n",
      "\n",
      "Below are more details about the failures:\n",
      "--------------------------------------------------------------------------------\n",
      "18 fits failed with the following error:\n",
      "Traceback (most recent call last):\n",
      "  File \"C:\\Users\\AMSE\\anaconda3\\lib\\site-packages\\sklearn\\model_selection\\_validation.py\", line 680, in _fit_and_score\n",
      "    estimator.fit(X_train, y_train, **fit_params)\n",
      "  File \"C:\\Users\\AMSE\\anaconda3\\lib\\site-packages\\sklearn\\ensemble\\_forest.py\", line 450, in fit\n",
      "    trees = Parallel(\n",
      "  File \"C:\\Users\\AMSE\\anaconda3\\lib\\site-packages\\joblib\\parallel.py\", line 1043, in __call__\n",
      "    if self.dispatch_one_batch(iterator):\n",
      "  File \"C:\\Users\\AMSE\\anaconda3\\lib\\site-packages\\joblib\\parallel.py\", line 861, in dispatch_one_batch\n",
      "    self._dispatch(tasks)\n",
      "  File \"C:\\Users\\AMSE\\anaconda3\\lib\\site-packages\\joblib\\parallel.py\", line 779, in _dispatch\n",
      "    job = self._backend.apply_async(batch, callback=cb)\n",
      "  File \"C:\\Users\\AMSE\\anaconda3\\lib\\site-packages\\joblib\\_parallel_backends.py\", line 208, in apply_async\n",
      "    result = ImmediateResult(func)\n",
      "  File \"C:\\Users\\AMSE\\anaconda3\\lib\\site-packages\\joblib\\_parallel_backends.py\", line 572, in __init__\n",
      "    self.results = batch()\n",
      "  File \"C:\\Users\\AMSE\\anaconda3\\lib\\site-packages\\joblib\\parallel.py\", line 262, in __call__\n",
      "    return [func(*args, **kwargs)\n",
      "  File \"C:\\Users\\AMSE\\anaconda3\\lib\\site-packages\\joblib\\parallel.py\", line 262, in <listcomp>\n",
      "    return [func(*args, **kwargs)\n",
      "  File \"C:\\Users\\AMSE\\anaconda3\\lib\\site-packages\\sklearn\\utils\\fixes.py\", line 216, in __call__\n",
      "    return self.function(*args, **kwargs)\n",
      "  File \"C:\\Users\\AMSE\\anaconda3\\lib\\site-packages\\sklearn\\ensemble\\_forest.py\", line 185, in _parallel_build_trees\n",
      "    tree.fit(X, y, sample_weight=curr_sample_weight, check_input=False)\n",
      "  File \"C:\\Users\\AMSE\\anaconda3\\lib\\site-packages\\sklearn\\tree\\_classes.py\", line 1315, in fit\n",
      "    super().fit(\n",
      "  File \"C:\\Users\\AMSE\\anaconda3\\lib\\site-packages\\sklearn\\tree\\_classes.py\", line 308, in fit\n",
      "    raise ValueError(\"max_features must be in (0, n_features]\")\n",
      "ValueError: max_features must be in (0, n_features]\n",
      "\n",
      "  warnings.warn(some_fits_failed_message, FitFailedWarning)\n",
      "C:\\Users\\AMSE\\anaconda3\\lib\\site-packages\\sklearn\\model_selection\\_search.py:969: UserWarning: One or more of the test scores are non-finite: [-2.84061057e+11 -2.79183919e+11 -3.39007713e+11 -3.41142421e+11\n",
      " -3.70539059e+11 -3.64967582e+11 -2.53453668e+11 -2.53370245e+11\n",
      " -2.85938958e+11 -2.85712401e+11 -3.23790643e+11 -3.23494621e+11\n",
      "             nan             nan             nan             nan\n",
      "             nan             nan]\n",
      "  warnings.warn(\n",
      "C:\\Users\\AMSE\\anaconda3\\lib\\site-packages\\sklearn\\model_selection\\_search.py:969: UserWarning: One or more of the train scores are non-finite: [-2.60074542e+11 -2.55107984e+11 -3.26565058e+11 -3.27794415e+11\n",
      " -3.60978227e+11 -3.54151252e+11 -2.12746908e+11 -2.12589149e+11\n",
      " -2.58506665e+11 -2.58781031e+11 -3.03777295e+11 -3.03833617e+11\n",
      "             nan             nan             nan             nan\n",
      "             nan             nan]\n",
      "  warnings.warn(\n"
     ]
    },
    {
     "data": {
      "text/plain": [
       "RandomForestRegressor(max_features=3, min_samples_leaf=10, n_estimators=500,\n",
       "                      random_state=0)"
      ]
     },
     "execution_count": 7,
     "metadata": {},
     "output_type": "execute_result"
    }
   ],
   "source": [
    "# The best fit with regard to the MSE\n",
    "\n",
    "# parameter grid\n",
    "param_grid = {\"n_estimators\": [100, 500], \n",
    "              \"max_features\": [1, 3, 5],\n",
    "              \"min_samples_leaf\": [10, 20, 30]\n",
    "             }\n",
    "\n",
    "# Create a regression tree\n",
    "tree_reg = RandomForestRegressor(random_state = 0)\n",
    "\n",
    "from sklearn.model_selection import GridSearchCV\n",
    "grid_search = GridSearchCV(tree_reg, # model\n",
    "                          param_grid, # parameter grid\n",
    "                          scoring = \"neg_mean_squared_error\", # metric to evaluate\n",
    "                          return_train_score = True,\n",
    "                          cv = 3)\n",
    "\n",
    "# CV using all parameter combinations in the grid\n",
    "grid_search.fit(X_training, y_training)\n",
    "\n",
    "# the best hyperparameters\n",
    "grid_search.best_params_\n",
    "\n",
    "# the best model\n",
    "grid_search.best_estimator_"
   ]
  },
  {
   "cell_type": "markdown",
   "id": "1c911875",
   "metadata": {},
   "source": [
    "*Comment: The model which provides the best fit with regard to MSE has the hyperpameters as follows:*\n",
    "\n",
    "*Number of tree: 500*\n",
    "\n",
    "*Number of variables randomly sampled as candidates at each split: 3*\n",
    "\n",
    "*Minimum size of terminal nodes: 10*"
   ]
  },
  {
   "cell_type": "markdown",
   "id": "2bcd1f7e",
   "metadata": {},
   "source": [
    "**4.2 A second model: SVM**"
   ]
  },
  {
   "cell_type": "markdown",
   "id": "e38e4232",
   "metadata": {},
   "source": [
    "**1. Using a Support Vector Machine (SVM) with a linear kernel, predict the selling price of the car in the training set. Use the following variables: year, fuel, km_driven.**"
   ]
  },
  {
   "cell_type": "code",
   "execution_count": 8,
   "id": "3ffab056",
   "metadata": {},
   "outputs": [
    {
     "name": "stderr",
     "output_type": "stream",
     "text": [
      "C:\\Users\\AMSE\\anaconda3\\lib\\site-packages\\sklearn\\utils\\validation.py:993: DataConversionWarning: A column-vector y was passed when a 1d array was expected. Please change the shape of y to (n_samples, ), for example using ravel().\n",
      "  y = column_or_1d(y, warn=True)\n"
     ]
    },
    {
     "data": {
      "text/plain": [
       "SVR(C=10, kernel='linear')"
      ]
     },
     "execution_count": 8,
     "metadata": {},
     "output_type": "execute_result"
    }
   ],
   "source": [
    "# SVM\n",
    "\n",
    "from sklearn.svm import SVR\n",
    "\n",
    "# Rescale features\n",
    "\n",
    "from sklearn.preprocessing import StandardScaler\n",
    "\n",
    "scaler_X = StandardScaler().fit(X_training)\n",
    "X_training_sc = scaler_X.transform(X_training)\n",
    "X_validation_sc = scaler_X.transform(X_validation)\n",
    "X_test_sc = scaler_X.transform(X_test)\n",
    "\n",
    "# Reshape the target variable before rescaling\n",
    "\n",
    "y_training_reshape = y_training.values.reshape(-1, 1)\n",
    "y_validation_reshape = y_validation.values.reshape(-1, 1)\n",
    "y_test_reshape = y_test.values.reshape(-1, 1)\n",
    "\n",
    "# Rescale the target variable\n",
    "\n",
    "scaler_y = StandardScaler().fit(y_training_reshape)\n",
    "y_training_sc = scaler_y.transform(y_training_reshape)\n",
    "y_validation_sc = scaler_y.transform(y_validation_reshape)\n",
    "y_test_sc = scaler_y.transform(y_test_reshape)\n",
    "\n",
    "# Now we can fit the SVM model\n",
    "\n",
    "SVR_train = SVR(kernel = \"linear\", C = 10)\n",
    "SVR_train.fit(X_training_sc, y_training_sc)"
   ]
  },
  {
   "cell_type": "code",
   "execution_count": null,
   "id": "cf07b21c",
   "metadata": {},
   "outputs": [],
   "source": [
    "# A way to make pipeline to rescale the data\n",
    "# from sklearn.pipeline import make_pipeline\n",
    "# model_SVM = make_pipeline(StandardScaler(), SVR(C=10, kernel = \"linear\"))"
   ]
  },
  {
   "cell_type": "markdown",
   "id": "24a5f2a0",
   "metadata": {},
   "source": [
    "**2. Compute the mean squared error both for the training and the validation datasets. Compare them with each other.**"
   ]
  },
  {
   "cell_type": "code",
   "execution_count": 9,
   "id": "4bb0e06c",
   "metadata": {},
   "outputs": [
    {
     "name": "stdout",
     "output_type": "stream",
     "text": [
      "MSE for the train set is 0.8751868466029036\n",
      "MSE for the validation set is 0.9662448253450787\n"
     ]
    }
   ],
   "source": [
    "# Assess the goodness of fit by computing MSE on the training and validation dataset\n",
    "\n",
    "y_pred_train_SVM = SVR_train.predict(X_training_sc)\n",
    "y_pred_validation_SVM = SVR_train.predict(X_validation_sc)\n",
    "\n",
    "from sklearn.metrics import mean_squared_error\n",
    "mse_trained_SVM = mean_squared_error(y_training_sc, y_pred_train_SVM)\n",
    "print(\"MSE for the train set is\", mse_trained_SVM)\n",
    "mse_validated_SVM = mean_squared_error(y_validation_sc, y_pred_validation_SVM)\n",
    "print(\"MSE for the validation set is\", mse_validated_SVM)"
   ]
  },
  {
   "cell_type": "markdown",
   "id": "75027f1a",
   "metadata": {},
   "source": [
    "*Comment: The MSE for both the train and validation set are relatively low. The MSE for the validation test is fairly higher than that for the test set.*"
   ]
  },
  {
   "cell_type": "markdown",
   "id": "bc38f173",
   "metadata": {},
   "source": [
    "**3. Now, using a loop, make the costs vary.**"
   ]
  },
  {
   "cell_type": "code",
   "execution_count": 10,
   "id": "4e4346ce",
   "metadata": {},
   "outputs": [
    {
     "name": "stdout",
     "output_type": "stream",
     "text": [
      "Cost 1000.0  - MSE_train_SVM: 558820713547.1471  - MSE_validation_SVM: 617438758758.6605\n",
      "Cost 790.6043210907702  - MSE_train_SVM: 560160314067.5717  - MSE_validation_SVM: 618944779801.4979\n",
      "Cost 625.0551925273976  - MSE_train_SVM: 561335897976.6921  - MSE_validation_SVM: 620263480639.6525\n",
      "Cost 494.1713361323833  - MSE_train_SVM: 562589490889.418  - MSE_validation_SVM: 621721395293.3711\n",
      "Cost 390.6939937054617  - MSE_train_SVM: 563809420142.723  - MSE_validation_SVM: 623158017197.1583\n",
      "Cost 308.88435964774817  - MSE_train_SVM: 565899882364.426  - MSE_validation_SVM: 625577876976.5743\n",
      "Cost 244.205309454865  - MSE_train_SVM: 568794505819.5822  - MSE_validation_SVM: 628959636411.6649\n",
      "Cost 193.06977288832496  - MSE_train_SVM: 571266907725.111  - MSE_validation_SVM: 631822717189.0901\n",
      "Cost 152.64179671752333  - MSE_train_SVM: 574294695681.4849  - MSE_validation_SVM: 635267787477.3677\n",
      "Cost 120.67926406393289  - MSE_train_SVM: 578527631031.9647  - MSE_validation_SVM: 640064176676.4885\n",
      "Cost 95.40954763499938  - MSE_train_SVM: 583511114424.0408  - MSE_validation_SVM: 645680048245.0525\n",
      "Cost 75.43120063354615  - MSE_train_SVM: 588339633986.3302  - MSE_validation_SVM: 651128872947.9736\n",
      "Cost 59.63623316594643  - MSE_train_SVM: 593443114692.3638  - MSE_validation_SVM: 656940339449.8875\n",
      "Cost 47.14866363457394  - MSE_train_SVM: 601547537060.2499  - MSE_validation_SVM: 666047973263.8007\n",
      "Cost 37.2759372031494  - MSE_train_SVM: 609516343195.1769  - MSE_validation_SVM: 675011883128.0851\n",
      "Cost 29.4705170255181  - MSE_train_SVM: 618221266141.7225  - MSE_validation_SVM: 684744940095.1255\n",
      "Cost 23.29951810515372  - MSE_train_SVM: 626353326021.3292  - MSE_validation_SVM: 693831549090.0475\n",
      "Cost 18.420699693267164  - MSE_train_SVM: 634142183592.9907  - MSE_validation_SVM: 702499174908.4739\n",
      "Cost 14.563484775012437  - MSE_train_SVM: 640849695569.2156  - MSE_validation_SVM: 709953725064.7368\n",
      "Cost 11.513953993264469  - MSE_train_SVM: 646564988029.7953  - MSE_validation_SVM: 716275933394.7836\n",
      "Cost 9.102981779915218  - MSE_train_SVM: 651411601892.0973  - MSE_validation_SVM: 721618869323.907\n",
      "Cost 7.196856730011521  - MSE_train_SVM: 655360760592.31  - MSE_validation_SVM: 725966032705.8025\n",
      "Cost 5.689866029018293  - MSE_train_SVM: 659301824523.1781  - MSE_validation_SVM: 730276110575.441\n",
      "Cost 4.498432668969444  - MSE_train_SVM: 661784157828.6866  - MSE_validation_SVM: 733002907133.049\n",
      "Cost 3.5564803062231287  - MSE_train_SVM: 663565388055.0294  - MSE_validation_SVM: 734961652372.1683\n",
      "Cost 2.8117686979742307  - MSE_train_SVM: 664957199669.4646  - MSE_validation_SVM: 736490272785.6718\n",
      "Cost 2.2229964825261956  - MSE_train_SVM: 666086438444.8691  - MSE_validation_SVM: 737729753099.7892\n",
      "Cost 1.7575106248547911  - MSE_train_SVM: 666985126414.0723  - MSE_validation_SVM: 738715057250.3774\n",
      "Cost 1.3894954943731375  - MSE_train_SVM: 667578033904.5505  - MSE_validation_SVM: 739367161194.3564\n",
      "Cost 1.0985411419875584  - MSE_train_SVM: 668050699232.2266  - MSE_validation_SVM: 739886585078.4403\n",
      "Cost 0.868511373751352  - MSE_train_SVM: 668426834513.3367  - MSE_validation_SVM: 740299661364.2513\n",
      "Cost 0.6866488450042998  - MSE_train_SVM: 668725736345.9263  - MSE_validation_SVM: 740627752343.2928\n",
      "Cost 0.5428675439323859  - MSE_train_SVM: 668963004294.4366  - MSE_validation_SVM: 740888086999.021\n",
      "Cost 0.42919342601287785  - MSE_train_SVM: 669151186205.0388  - MSE_validation_SVM: 741094499073.6414\n",
      "Cost 0.33932217718953295  - MSE_train_SVM: 669304524449.7205  - MSE_validation_SVM: 741262556683.2777\n",
      "Cost 0.2682695795279725  - MSE_train_SVM: 669421795866.8331  - MSE_validation_SVM: 741391152219.0319\n",
      "Cost 0.21209508879201905  - MSE_train_SVM: 669514658368.6808  - MSE_validation_SVM: 741492966029.4478\n",
      "Cost 0.16768329368110083  - MSE_train_SVM: 669588167879.9954  - MSE_validation_SVM: 741573551491.0565\n",
      "Cost 0.13257113655901082  - MSE_train_SVM: 669646342332.4133  - MSE_validation_SVM: 741637319599.7109\n",
      "Cost 0.10481131341546852  - MSE_train_SVM: 669692371256.0046  - MSE_validation_SVM: 741687770504.1586\n",
      "Cost 0.08286427728546843  - MSE_train_SVM: 669728784392.7075  - MSE_validation_SVM: 741727679435.5527\n",
      "Cost 0.0655128556859551  - MSE_train_SVM: 669757586821.4294  - MSE_validation_SVM: 741759245503.0995\n",
      "Cost 0.05179474679231213  - MSE_train_SVM: 669780366925.2489  - MSE_validation_SVM: 741784210456.9799\n",
      "Cost 0.040949150623804276  - MSE_train_SVM: 669798382461.256  - MSE_validation_SVM: 741803953285.671\n",
      "Cost 0.0323745754281764  - MSE_train_SVM: 669812629051.856  - MSE_validation_SVM: 741819565444.3179\n",
      "Cost 0.025595479226995333  - MSE_train_SVM: 669823894611.8748  - MSE_validation_SVM: 741831910605.2003\n",
      "Cost 0.020235896477251554  - MSE_train_SVM: 669832802552.3805  - MSE_validation_SVM: 741841672068.3531\n",
      "Cost 0.015998587196060572  - MSE_train_SVM: 669839846046.2572  - MSE_validation_SVM: 741849390351.8843\n",
      "Cost 0.012648552168552958  - MSE_train_SVM: 669845415186.5115  - MSE_validation_SVM: 741855492978.1053\n",
      "Cost 0.01  - MSE_train_SVM: 669849818500.1134  - MSE_validation_SVM: 741860318064.4863\n"
     ]
    }
   ],
   "source": [
    "mse_train_SVM = []\n",
    "mse_validation_SVM = []\n",
    "\n",
    "for i in 10**np.linspace(start=3, stop=-2, num=50):\n",
    "    SVM_model = SVR(kernel = \"linear\", C = i)\n",
    "    SVM_model.fit(X_training_sc, y_training)\n",
    "    \n",
    "    # Predict for the training set\n",
    "    y_train_pred_SVM = SVM_model.predict(X_training_sc)\n",
    "    \n",
    "    # Calculate the MSE on the training set\n",
    "    mse_train_SVM_value = mean_squared_error(y_training, y_train_pred_SVM)\n",
    "    mse_train_SVM.append(mse_train_SVM_value)\n",
    "    \n",
    "    # Predict for the validation set\n",
    "    y_validation_pred_SVM = SVM_model.predict(X_validation_sc)\n",
    "    \n",
    "    # Calculate the MSE on the validation set\n",
    "    mse_validation_SVM_value = mean_squared_error(y_validation, y_validation_pred_SVM)\n",
    "    mse_validation_SVM.append(mse_validation_SVM_value)\n",
    "    \n",
    "    print(\"Cost\", i, \" - MSE_train_SVM:\", mse_train_SVM_value,  \" - MSE_validation_SVM:\", mse_validation_SVM_value)"
   ]
  },
  {
   "cell_type": "markdown",
   "id": "ac596c68",
   "metadata": {},
   "source": [
    "**4. On a graph, plot the mean squared error as a function of the node size, for both samples (one curve for each sample). Comment.**"
   ]
  },
  {
   "cell_type": "code",
   "execution_count": 11,
   "id": "6bfdb243",
   "metadata": {},
   "outputs": [
    {
     "data": {
      "image/png": "[encoded data removed]",
      "text/plain": [
       "<Figure size 432x288 with 1 Axes>"
      ]
     },
     "metadata": {
      "needs_background": "light"
     },
     "output_type": "display_data"
    }
   ],
   "source": [
    "# Plot the mean squared error as a function of the cost for the train and validation set\n",
    "\n",
    "import matplotlib.pyplot as plt\n",
    "\n",
    "costs = 10**np.linspace(start=3, stop=-2, num=50)\n",
    "plt.figure()\n",
    "plt.plot(costs, mse_train_SVM, label = \"MSE for the train set\")\n",
    "plt.plot(costs, mse_validation_SVM, label = \"MSE for the validation set\")\n",
    "plt.xlabel(\"Costs\")\n",
    "plt.ylabel(\"MSE\")\n",
    "plt.title(\"MSE for different costs\")\n",
    "plt.legend()\n",
    "plt.show()"
   ]
  },
  {
   "cell_type": "markdown",
   "id": "c5b0e4e2",
   "metadata": {},
   "source": [
    "*Comment: As can be seen from the graph, the MSE decreases sharply after increasing the cost from 0 to roughly 100, and then decreases at a lower pace for the cost varying from 200 to 1000. Additionally, the MSE for the validation set is higher than that for the train set.*"
   ]
  },
  {
   "cell_type": "markdown",
   "id": "213a4f79",
   "metadata": {},
   "source": [
    "**5. What are the values for your hyperparameters (the number of trees, the number of variables randomly sampled as candidates at each split, and the minimum size of terminalnodes) that provide the best fit with regard to the MSE?**"
   ]
  },
  {
   "cell_type": "code",
   "execution_count": 12,
   "id": "4709ba38",
   "metadata": {},
   "outputs": [
    {
     "data": {
      "text/plain": [
       "SVR(C=1400, kernel='linear')"
      ]
     },
     "execution_count": 12,
     "metadata": {},
     "output_type": "execute_result"
    }
   ],
   "source": [
    "# The best fit with regard to the MSE\n",
    "\n",
    "# parameter grid\n",
    "param_grid = {\"kernel\": [\"linear\", \"rbf\"], \n",
    "              \"C\": [1000, 1100, 1200, 1300, 1400]\n",
    "             }\n",
    "\n",
    " # Create a SVM tree\n",
    "tree_SVM = SVR()\n",
    "\n",
    "from sklearn.model_selection import GridSearchCV\n",
    "grid_search_SVM = GridSearchCV(tree_SVM, # model\n",
    "                          param_grid, # parameter grid\n",
    "                          scoring = \"neg_mean_squared_error\", # metric to evaluate\n",
    "                          return_train_score = True,\n",
    "                          cv = 3)\n",
    "\n",
    "# CV using all parameter combinations in the grid\n",
    "grid_search_SVM.fit(X_training_sc, y_training)\n",
    "\n",
    "# the best hyperparameters\n",
    "grid_search_SVM.best_params_\n",
    "\n",
    "# the best model\n",
    "grid_search_SVM.best_estimator_"
   ]
  },
  {
   "cell_type": "markdown",
   "id": "37ed6084",
   "metadata": {},
   "source": [
    "*Comment: The result from the previous question suggests that the SME decreases when increasing the costs. That's why I chose the costs from 1100 to 1400 to test in this grid, since there's no clear instruction on how to choose the costs.*\n",
    "\n",
    "*Among the models having two types of kernel, \"linear\" or \"rbf\", and the costs varying from [1000, 1100, 1200, 1300, 1400], the model which provides the best fit has the hyperparameters as follows:*\n",
    "\n",
    "*The kernel: linear*\n",
    "\n",
    "*The cost: 1400 - the highest in the grid*"
   ]
  },
  {
   "cell_type": "markdown",
   "id": "c8c4f72f",
   "metadata": {},
   "source": [
    "### 4.3 Select your model"
   ]
  },
  {
   "cell_type": "markdown",
   "id": "855270cf",
   "metadata": {},
   "source": [
    "**1. Compute the MSE on the test set for the random forest with the selected values for the hyperparameters.**"
   ]
  },
  {
   "cell_type": "code",
   "execution_count": 13,
   "id": "3d2c2327",
   "metadata": {},
   "outputs": [
    {
     "name": "stdout",
     "output_type": "stream",
     "text": [
      "MSE for the best RandomForest model is 315954584193.0168\n"
     ]
    }
   ],
   "source": [
    "# Compute the MSE on the test set for the random forest with the selected values for the hyperparameters\n",
    "\n",
    "# Random Forest\n",
    "regr_best = RandomForestRegressor(n_estimators = 500, max_features = 3, min_samples_leaf = 10, random_state = 0)\n",
    "regr_best.fit(X_test, y_test)\n",
    "\n",
    "# Assess the goodness of fit by computing MSE on the training and validation dataset\n",
    "y_pred_best = regr_best.predict(X_test)\n",
    "\n",
    "mse_best_RandomForest = mean_squared_error(y_test, y_pred_best)\n",
    "print(\"MSE for the best RandomForest model is\", mse_best_RandomForest)"
   ]
  },
  {
   "cell_type": "markdown",
   "id": "cd45cdc2",
   "metadata": {},
   "source": [
    "**2. Do the same for your best SVM**"
   ]
  },
  {
   "cell_type": "code",
   "execution_count": 14,
   "id": "5c0f0bcc",
   "metadata": {},
   "outputs": [
    {
     "name": "stdout",
     "output_type": "stream",
     "text": [
      "MSE for the best SVM model is 590825491070.8698\n"
     ]
    }
   ],
   "source": [
    "# SVM\n",
    "SVM_best = SVR(kernel = \"linear\", C = 1000)\n",
    "SVM_best.fit(X_test_sc, y_test)\n",
    "\n",
    "# Assess the goodness of fit by computing MSE on the training and validation dataset\n",
    "y_pred_best_SVM = SVM_best.predict(X_test_sc)\n",
    "\n",
    "mse_best_SVM = mean_squared_error(y_test, y_pred_best_SVM)\n",
    "print(\"MSE for the best SVM model is\", mse_best_SVM)"
   ]
  },
  {
   "cell_type": "markdown",
   "id": "d36707d4",
   "metadata": {},
   "source": [
    "**3. Which model gives the best results on the test set? Comment.**"
   ]
  },
  {
   "cell_type": "code",
   "execution_count": 15,
   "id": "95e8b65f",
   "metadata": {},
   "outputs": [
    {
     "data": {
      "text/plain": [
       "True"
      ]
     },
     "execution_count": 15,
     "metadata": {},
     "output_type": "execute_result"
    }
   ],
   "source": [
    "mse_best_RandomForest < mse_best_SVM"
   ]
  },
  {
   "cell_type": "markdown",
   "id": "16c3fa5b",
   "metadata": {},
   "source": [
    "*Comment: Regarding to the MSE, the RandomForest model provides better result comparing to the SVM as the MSE for the former is smaller than that for the latter.*"
   ]
  }
 ],
 "metadata": {
  "kernelspec": {
   "display_name": "Python 3 (ipykernel)",
   "language": "python",
   "name": "python3"
  },
  "language_info": {
   "codemirror_mode": {
    "name": "ipython",
    "version": 3
   },
   "file_extension": ".py",
   "mimetype": "text/x-python",
   "name": "python",
   "nbconvert_exporter": "python",
   "pygments_lexer": "ipython3",
   "version": "3.9.12"
  }
 },
 "nbformat": 4,
 "nbformat_minor": 5
}
